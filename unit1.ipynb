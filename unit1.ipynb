{
 "cells": [
  {
   "cell_type": "markdown",
   "metadata": {},
   "source": [
    "# ЗМІННІ ТА ТИПИ ДАНИХ"
   ]
  },
  {
   "cell_type": "markdown",
   "metadata": {},
   "source": [
    "int = "
   ]
  },
  {
   "cell_type": "code",
   "execution_count": 13,
   "metadata": {},
   "outputs": [],
   "source": [
    "int_val = 10 # цілі числа\n",
    "float_val = -3.99999999999 # з плаваючою точкою\n",
    "string_val = \"hello Nastya\" \n",
    "bool_val = True # True == 1, False == 0\n",
    "bool_val2 = \"asjdhlawhsd\"\n"
   ]
  },
  {
   "cell_type": "code",
   "execution_count": 14,
   "metadata": {},
   "outputs": [
    {
     "name": "stdout",
     "output_type": "stream",
     "text": [
      "-3\n"
     ]
    }
   ],
   "source": [
    "print(int(float_val)) # int завжди округляє до найменшого цілого"
   ]
  },
  {
   "cell_type": "code",
   "execution_count": 3,
   "metadata": {},
   "outputs": [
    {
     "data": {
      "text/plain": [
       "int"
      ]
     },
     "execution_count": 3,
     "metadata": {},
     "output_type": "execute_result"
    }
   ],
   "source": [
    "type(int_val)"
   ]
  },
  {
   "cell_type": "code",
   "execution_count": 4,
   "metadata": {},
   "outputs": [
    {
     "name": "stdout",
     "output_type": "stream",
     "text": [
      "hello world\n"
     ]
    }
   ],
   "source": [
    "print(\"hello world\")"
   ]
  },
  {
   "cell_type": "code",
   "execution_count": 6,
   "metadata": {},
   "outputs": [
    {
     "name": "stdout",
     "output_type": "stream",
     "text": [
      "10 True some text\n"
     ]
    }
   ],
   "source": [
    "print(int_val, bool_val, \"some text\")"
   ]
  },
  {
   "cell_type": "code",
   "execution_count": 8,
   "metadata": {},
   "outputs": [
    {
     "name": "stdout",
     "output_type": "stream",
     "text": [
      "Hello wq\n"
     ]
    }
   ],
   "source": [
    "# F-рядки (RAW - strings)\n",
    "\n",
    "name = input(\"enter ur name: \")\n",
    "\n",
    "print(f\"Hello {name}\")"
   ]
  },
  {
   "cell_type": "markdown",
   "metadata": {},
   "source": [
    "# арифметичні операції\n"
   ]
  },
  {
   "cell_type": "markdown",
   "metadata": {},
   "source": [
    "+  або += - складання \n",
    "- або -= віднімання\n",
    "* або *=множення\n",
    "/ або /= ділення\n",
    "// або //= повертає цілу частину дробного числа\n",
    "% або %= повертає залишок від ділення (9 % 2 == 1 так як 2 поміщається в 9и 4 рази і одиниця залишається)\n",
    "()"
   ]
  },
  {
   "cell_type": "code",
   "execution_count": null,
   "metadata": {},
   "outputs": [],
   "source": []
  },
  {
   "cell_type": "code",
   "execution_count": 41,
   "metadata": {},
   "outputs": [
    {
     "name": "stdout",
     "output_type": "stream",
     "text": [
      "9 + 2.5 = 11.5\n"
     ]
    }
   ],
   "source": [
    "a = 9\n",
    "b = 2.5\n",
    "\n",
    "res = a + b\n",
    "print(f\"{a} + {b} = {res}\")"
   ]
  },
  {
   "cell_type": "code",
   "execution_count": 42,
   "metadata": {},
   "outputs": [
    {
     "name": "stdout",
     "output_type": "stream",
     "text": [
      "11.5\n"
     ]
    }
   ],
   "source": [
    "a += b # a = a + b\n",
    "print(a)"
   ]
  },
  {
   "cell_type": "code",
   "execution_count": 24,
   "metadata": {},
   "outputs": [
    {
     "name": "stdout",
     "output_type": "stream",
     "text": [
      "9 - 2.5 = 6.5\n"
     ]
    }
   ],
   "source": [
    "res = a - b\n",
    "print(f\"{a} - {b} = {res}\")"
   ]
  },
  {
   "cell_type": "code",
   "execution_count": 25,
   "metadata": {},
   "outputs": [
    {
     "name": "stdout",
     "output_type": "stream",
     "text": [
      "9 * 2.5 = 22.5\n"
     ]
    }
   ],
   "source": [
    "res = a * b\n",
    "print(f\"{a} * {b} = {res}\")"
   ]
  },
  {
   "cell_type": "code",
   "execution_count": 28,
   "metadata": {},
   "outputs": [
    {
     "name": "stdout",
     "output_type": "stream",
     "text": [
      "9 - 2 = 4.5\n"
     ]
    }
   ],
   "source": [
    "b = 2\n",
    "res = a / b\n",
    "print(f\"{a} - {b} = {res}\")"
   ]
  },
  {
   "cell_type": "code",
   "execution_count": 29,
   "metadata": {},
   "outputs": [
    {
     "name": "stdout",
     "output_type": "stream",
     "text": [
      "9 // 2 = 4\n"
     ]
    }
   ],
   "source": [
    "\n",
    "res = a // b\n",
    "print(f\"{a} // {b} = {res}\")"
   ]
  },
  {
   "cell_type": "code",
   "execution_count": 30,
   "metadata": {},
   "outputs": [
    {
     "name": "stdout",
     "output_type": "stream",
     "text": [
      "9 % 2 = 1\n"
     ]
    }
   ],
   "source": [
    "res = a % b\n",
    "print(f\"{a} % {b} = {res}\")"
   ]
  },
  {
   "cell_type": "code",
   "execution_count": 31,
   "metadata": {},
   "outputs": [
    {
     "name": "stdout",
     "output_type": "stream",
     "text": [
      "9 % 1 = 0\n"
     ]
    }
   ],
   "source": [
    "b = 1\n",
    "res = a % b\n",
    "print(f\"{a} % {b} = {res}\")"
   ]
  },
  {
   "cell_type": "markdown",
   "metadata": {},
   "source": [
    "Домашка: \n",
    "1. користувач вводить ціле число трьохзначне число (вважаємо що користувач, ЗАВЖДИ введе ціле трьохзначне число, яке не дорінює 0). \n",
    "2. програма має визначити, чи є введене число паліндромом і вивести результат в консоль\n",
    "3. паліндром - число яке дорівнює самому собі, якщо його пререгорнути:\n",
    "    1 - 9 == паліндроми\n",
    "    12, 123, 4789214981 == не паліндроми\n",
    "    11, 121, 12345566543221 - паліндром\n",
    "    від'ємні числа == НЕ паліндроми \n",
    "4. формат виводу : \"{введдене число} є (або не є) паліндромом\"\n",
    "5. НЕМОЖНА використовувати рядки!"
   ]
  },
  {
   "cell_type": "markdown",
   "metadata": {},
   "source": [
    "# ОПЕРАТОРИ ПОРІВНЯННЯ"
   ]
  },
  {
   "cell_type": "code",
   "execution_count": null,
   "metadata": {},
   "outputs": [],
   "source": [
    ">\n",
    "<\n",
    ">=\n",
    "<=\n",
    "==\n",
    "!=\n",
    "a = 15\n",
    "min_val {опреатор} значення {оператор}\n",
    "10 < a < 20\n"
   ]
  },
  {
   "cell_type": "code",
   "execution_count": 39,
   "metadata": {},
   "outputs": [
    {
     "name": "stdout",
     "output_type": "stream",
     "text": [
      "10\n"
     ]
    }
   ],
   "source": [
    "num1 = 1\n",
    "num2 = 2\n",
    "\n",
    "print((1 != 2) + 9)\n",
    "# print(1 != 2)\n",
    "# print(int(1 != 2))\n"
   ]
  },
  {
   "cell_type": "markdown",
   "metadata": {},
   "source": [
    "# УМОВНІ ОПЕРАТОРИ"
   ]
  },
  {
   "cell_type": "markdown",
   "metadata": {},
   "source": [
    "if\n",
    "elif\n",
    "else"
   ]
  },
  {
   "cell_type": "code",
   "execution_count": null,
   "metadata": {},
   "outputs": [],
   "source": [
    "age = input(\"enter your age: \")  # результатом функії input завжди є рядок!\n",
    "age = int(age)\n",
    "\n",
    "# age = int(input(\"enter your age: \"))\n",
    "min_age_for_beer = 15\n",
    "main_age_for_vodka = 18\n",
    "\n",
    "if age < min_age_for_beer:\n",
    "    print(\"Too young to drink vodka, but u can drink some beer!\")\n",
    "\n",
    "\n"
   ]
  }
 ],
 "metadata": {
  "kernelspec": {
   "display_name": "venv",
   "language": "python",
   "name": "python3"
  },
  "language_info": {
   "codemirror_mode": {
    "name": "ipython",
    "version": 3
   },
   "file_extension": ".py",
   "mimetype": "text/x-python",
   "name": "python",
   "nbconvert_exporter": "python",
   "pygments_lexer": "ipython3",
   "version": "3.9.5"
  }
 },
 "nbformat": 4,
 "nbformat_minor": 2
}
